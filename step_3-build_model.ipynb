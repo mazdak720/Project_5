{
 "cells": [
  {
   "cell_type": "markdown",
   "metadata": {},
   "source": [
    "# Step 3 - Build Model"
   ]
  },
  {
   "cell_type": "markdown",
   "metadata": {},
   "source": [
    "\n",
    "### Domain and Data\n",
    "\n",
    "Using Madelon, an artificial dataset, to create feature selection models.\n",
    "\n",
    "### Problem Statement\n",
    "\n",
    "Finding the best approach to select features and build the best model for current dataset.\n",
    "\n",
    "### Solution Statement\n",
    "\n",
    "By adding feature selection step to the pipeline and fitting models with different model parameters by using grid search, the best combination of models and features selected is found.\n",
    "\n",
    "\n",
    "### Metric\n",
    "\n",
    "Mean accuracy of the model is the metric for deciding if the model performing well and selected features are the important ones. Also the coefficient absolute value threshold for considering a feature important is set to 0.001.\n",
    "\n",
    "### Benchmark\n",
    "\n",
    "Considering the above metric, results for this step can be compared to the ones we got in the first step to see how much we have improved our metric by adding extra steps and modifying the model parameters."
   ]
  },
  {
   "cell_type": "markdown",
   "metadata": {},
   "source": [
    "## Implementation\n",
    "\n",
    "Implement the following code pipeline using the functions you write in `lib/project_5.py`."
   ]
  },
  {
   "cell_type": "markdown",
   "metadata": {},
   "source": [
    "<img src=\"assets/build_model.png\" width=\"600px\">"
   ]
  },
  {
   "cell_type": "code",
   "execution_count": 1,
   "metadata": {
    "collapsed": false
   },
   "outputs": [],
   "source": [
    "from lib.project_5 import pipeline"
   ]
  },
  {
   "cell_type": "code",
   "execution_count": 2,
   "metadata": {
    "collapsed": true
   },
   "outputs": [],
   "source": [
    "import pandas as pd\n",
    "import numpy as np\n",
    "\n",
    "from sklearn.model_selection import train_test_split\n",
    "from sklearn.preprocessing import StandardScaler\n",
    "from sklearn.feature_selection import SelectKBest\n",
    "from sklearn.linear_model import LogisticRegression\n",
    "from sklearn.neighbors import KNeighborsClassifier\n",
    "from sklearn.model_selection import GridSearchCV\n",
    "from sklearn.svm import SVC, LinearSVC"
   ]
  },
  {
   "cell_type": "code",
   "execution_count": 3,
   "metadata": {
    "collapsed": true
   },
   "outputs": [],
   "source": [
    "proj5_conn = {\n",
    "    \"url\" : \"joshuacook.me\",\n",
    "    \"port\" : \"5432\",\n",
    "    \"database\" : \"dsi\",\n",
    "    \"table\" : \"madelon\",\n",
    "    \"user\" : \"dsi_student\",\n",
    "    \"password\" : \"correct horse battery staple\"\n",
    "}\n",
    "\n",
    "feature_selection_params = range(4, 25)    \n",
    "grid_search_params_lr = {\n",
    "    'penalty' : [\"l1\", \"l2\"],\n",
    "#    'C' : [0.01+x**2*0.05 for x in range(30)]    \n",
    "    'C' : [0.1+x*0.05 for x in range(30)]    \n",
    "}  "
   ]
  },
  {
   "cell_type": "code",
   "execution_count": 4,
   "metadata": {
    "collapsed": false
   },
   "outputs": [
    {
     "name": "stdout",
     "output_type": "stream",
     "text": [
      "Connected to the database and got the data successfully.\n",
      "Data dictionary created.\n",
      "Data is scaled.\n",
      "Transformer is found.\n",
      "Transformer parameters are found.\n",
      "Grid searches are created.\n",
      "Grid searches are done.\n"
     ]
    }
   ],
   "source": [
    "step3_b_output = (pipeline(proj5_conn, StandardScaler(), transformer=SelectKBest,\n",
    "                     model=LogisticRegression(n_jobs=-1), fs_params=feature_selection_params, \n",
    "                     gs_params=grid_search_params_lr, random_state=10))"
   ]
  },
  {
   "cell_type": "code",
   "execution_count": 5,
   "metadata": {
    "collapsed": false
   },
   "outputs": [
    {
     "data": {
      "text/plain": [
       "StandardScaler(copy=True, with_mean=True, with_std=True)"
      ]
     },
     "execution_count": 5,
     "metadata": {},
     "output_type": "execute_result"
    }
   ],
   "source": [
    "step3_b_output[\"scaler\"]"
   ]
  },
  {
   "cell_type": "code",
   "execution_count": 6,
   "metadata": {
    "collapsed": false
   },
   "outputs": [
    {
     "data": {
      "text/plain": [
       "SelectKBest(k=8, score_func=<function f_classif at 0x115558758>)"
      ]
     },
     "execution_count": 6,
     "metadata": {},
     "output_type": "execute_result"
    }
   ],
   "source": [
    "step3_b_output[\"transformer\"]"
   ]
  },
  {
   "cell_type": "code",
   "execution_count": 7,
   "metadata": {
    "collapsed": false,
    "scrolled": true
   },
   "outputs": [
    {
     "data": {
      "text/plain": [
       "LogisticRegression(C=0.15, class_weight=None, dual=False, fit_intercept=True,\n",
       "          intercept_scaling=1, max_iter=100, multi_class='ovr', n_jobs=-1,\n",
       "          penalty='l2', random_state=None, solver='liblinear', tol=0.0001,\n",
       "          verbose=0, warm_start=False)"
      ]
     },
     "execution_count": 7,
     "metadata": {},
     "output_type": "execute_result"
    }
   ],
   "source": [
    "step3_b_output[\"model\"]"
   ]
  },
  {
   "cell_type": "code",
   "execution_count": 8,
   "metadata": {
    "collapsed": false
   },
   "outputs": [
    {
     "data": {
      "text/plain": [
       "(0.61799999999999999, 0.61599999999999999)"
      ]
     },
     "execution_count": 8,
     "metadata": {},
     "output_type": "execute_result"
    }
   ],
   "source": [
    "step3_b_output[\"train_score\"], step3_b_output[\"test_score\"]"
   ]
  },
  {
   "cell_type": "code",
   "execution_count": 9,
   "metadata": {
    "collapsed": false
   },
   "outputs": [
    {
     "data": {
      "text/plain": [
       "8"
      ]
     },
     "execution_count": 9,
     "metadata": {},
     "output_type": "execute_result"
    }
   ],
   "source": [
    "step3_b_output[\"best_k\"]"
   ]
  },
  {
   "cell_type": "code",
   "execution_count": 10,
   "metadata": {
    "collapsed": false
   },
   "outputs": [],
   "source": [
    "features = pd.DataFrame(step3_b_output[\"features\"], columns=[\"Feature\", \"Coefficient\"]).sort_values(by=\"Coefficient\", ascending=False)"
   ]
  },
  {
   "cell_type": "code",
   "execution_count": 11,
   "metadata": {
    "collapsed": false
   },
   "outputs": [
    {
     "data": {
      "text/html": [
       "<div>\n",
       "<table border=\"1\" class=\"dataframe\">\n",
       "  <thead>\n",
       "    <tr style=\"text-align: right;\">\n",
       "      <th></th>\n",
       "      <th>Feature</th>\n",
       "      <th>Coefficient</th>\n",
       "    </tr>\n",
       "  </thead>\n",
       "  <tbody>\n",
       "    <tr>\n",
       "      <th>7</th>\n",
       "      <td>feat_475</td>\n",
       "      <td>0.453415</td>\n",
       "    </tr>\n",
       "    <tr>\n",
       "      <th>3</th>\n",
       "      <td>feat_241</td>\n",
       "      <td>0.221779</td>\n",
       "    </tr>\n",
       "    <tr>\n",
       "      <th>5</th>\n",
       "      <td>feat_338</td>\n",
       "      <td>0.216256</td>\n",
       "    </tr>\n",
       "    <tr>\n",
       "      <th>0</th>\n",
       "      <td>feat_064</td>\n",
       "      <td>0.208713</td>\n",
       "    </tr>\n",
       "    <tr>\n",
       "      <th>2</th>\n",
       "      <td>feat_128</td>\n",
       "      <td>0.205410</td>\n",
       "    </tr>\n",
       "    <tr>\n",
       "      <th>1</th>\n",
       "      <td>feat_105</td>\n",
       "      <td>0.110269</td>\n",
       "    </tr>\n",
       "    <tr>\n",
       "      <th>4</th>\n",
       "      <td>feat_336</td>\n",
       "      <td>0.024200</td>\n",
       "    </tr>\n",
       "    <tr>\n",
       "      <th>6</th>\n",
       "      <td>feat_442</td>\n",
       "      <td>0.022083</td>\n",
       "    </tr>\n",
       "  </tbody>\n",
       "</table>\n",
       "</div>"
      ],
      "text/plain": [
       "    Feature  Coefficient\n",
       "7  feat_475     0.453415\n",
       "3  feat_241     0.221779\n",
       "5  feat_338     0.216256\n",
       "0  feat_064     0.208713\n",
       "2  feat_128     0.205410\n",
       "1  feat_105     0.110269\n",
       "4  feat_336     0.024200\n",
       "6  feat_442     0.022083"
      ]
     },
     "execution_count": 11,
     "metadata": {},
     "output_type": "execute_result"
    }
   ],
   "source": [
    "features"
   ]
  },
  {
   "cell_type": "markdown",
   "metadata": {},
   "source": [
    "### K-Nearest Neighbors ### "
   ]
  },
  {
   "cell_type": "code",
   "execution_count": 12,
   "metadata": {
    "collapsed": true
   },
   "outputs": [],
   "source": [
    "feature_selection_params = range(5, 16)    \n",
    "grid_search_params_knn = {\n",
    "    \"n_neighbors\" : range(3,16)\n",
    "#    \"weights\" : [\"uniform\", \"distance\"]\n",
    "#    \"metric\" : [\"minkowski\", \"manhattan\", \"euclidean\"]\n",
    "}    \n"
   ]
  },
  {
   "cell_type": "code",
   "execution_count": 13,
   "metadata": {
    "collapsed": false
   },
   "outputs": [
    {
     "name": "stdout",
     "output_type": "stream",
     "text": [
      "Connected to the database and got the data successfully.\n",
      "Data dictionary created.\n",
      "Data is scaled.\n",
      "Transformer is found.\n",
      "Transformer parameters are found.\n",
      "Grid searches are created.\n",
      "Grid searches are done.\n"
     ]
    }
   ],
   "source": [
    "step3_b_output_knn = (pipeline(proj5_conn, StandardScaler(), transformer=SelectKBest,\n",
    "                     model=KNeighborsClassifier(n_jobs=-1), fs_params=feature_selection_params, \n",
    "                     gs_params=grid_search_params_knn, random_state=10))"
   ]
  },
  {
   "cell_type": "code",
   "execution_count": 14,
   "metadata": {
    "collapsed": false
   },
   "outputs": [
    {
     "name": "stdout",
     "output_type": "stream",
     "text": [
      "KNeighborsClassifier(algorithm='auto', leaf_size=30, metric='minkowski',\n",
      "           metric_params=None, n_jobs=-1, n_neighbors=5, p=2,\n",
      "           weights='uniform')\n",
      "0.92 0.892\n",
      "12\n",
      "Index([u'feat_048', u'feat_064', u'feat_105', u'feat_128', u'feat_241',\n",
      "       u'feat_336', u'feat_338', u'feat_378', u'feat_442', u'feat_472',\n",
      "       u'feat_475', u'feat_493'],\n",
      "      dtype='object')\n"
     ]
    }
   ],
   "source": [
    "print step3_b_output_knn[\"model\"]\n",
    "print step3_b_output_knn[\"train_score\"], step3_b_output_knn[\"test_score\"]\n",
    "print step3_b_output_knn[\"best_k\"]\n",
    "print step3_b_output_knn[\"features\"]"
   ]
  },
  {
   "cell_type": "markdown",
   "metadata": {},
   "source": [
    "### This is a different grid search from the previous cell, in this case instead of using bset scores of grid search which is based on results of the best scores of test data split using cross validation, the bset scores of the model for X_test and y_test is considered to choose the best model."
   ]
  },
  {
   "cell_type": "code",
   "execution_count": 15,
   "metadata": {
    "collapsed": false
   },
   "outputs": [],
   "source": [
    "list_output_knn = []\n",
    "results = []\n",
    "for i in range(3,16):\n",
    "    list_output_knn.append(pipeline(proj5_conn, StandardScaler(), transformer=SelectKBest,\n",
    "                     model=KNeighborsClassifier(n_neighbors=i, weights=\"distance\", n_jobs=-1), \n",
    "                     fs_params=feature_selection_params, verbose=False, random_state=10))\n",
    "    inx = i-3\n",
    "    k = list_output_knn[inx][\"best_k\"]\n",
    "    model = list_output_knn[inx][\"model\"]\n",
    "    model.fit(list_output_knn[inx][\"X_train\"], list_output_knn[inx][\"y_train\"])\n",
    "    results.append((i, k, model.score(list_output_knn[inx][\"X_test\"], list_output_knn[inx][\"y_test\"])))\n",
    "results = pd.DataFrame(results, columns=[\"n_neighbors\", \"best_k\", \"test_score\"])"
   ]
  },
  {
   "cell_type": "code",
   "execution_count": 16,
   "metadata": {
    "collapsed": false
   },
   "outputs": [
    {
     "data": {
      "text/html": [
       "<div>\n",
       "<table border=\"1\" class=\"dataframe\">\n",
       "  <thead>\n",
       "    <tr style=\"text-align: right;\">\n",
       "      <th></th>\n",
       "      <th>n_neighbors</th>\n",
       "      <th>best_k</th>\n",
       "      <th>test_score</th>\n",
       "    </tr>\n",
       "  </thead>\n",
       "  <tbody>\n",
       "    <tr>\n",
       "      <th>7</th>\n",
       "      <td>10</td>\n",
       "      <td>13</td>\n",
       "      <td>0.904</td>\n",
       "    </tr>\n",
       "    <tr>\n",
       "      <th>6</th>\n",
       "      <td>9</td>\n",
       "      <td>13</td>\n",
       "      <td>0.900</td>\n",
       "    </tr>\n",
       "    <tr>\n",
       "      <th>8</th>\n",
       "      <td>11</td>\n",
       "      <td>13</td>\n",
       "      <td>0.900</td>\n",
       "    </tr>\n",
       "    <tr>\n",
       "      <th>4</th>\n",
       "      <td>7</td>\n",
       "      <td>13</td>\n",
       "      <td>0.896</td>\n",
       "    </tr>\n",
       "    <tr>\n",
       "      <th>9</th>\n",
       "      <td>12</td>\n",
       "      <td>13</td>\n",
       "      <td>0.896</td>\n",
       "    </tr>\n",
       "    <tr>\n",
       "      <th>10</th>\n",
       "      <td>13</td>\n",
       "      <td>13</td>\n",
       "      <td>0.896</td>\n",
       "    </tr>\n",
       "    <tr>\n",
       "      <th>2</th>\n",
       "      <td>5</td>\n",
       "      <td>12</td>\n",
       "      <td>0.894</td>\n",
       "    </tr>\n",
       "    <tr>\n",
       "      <th>3</th>\n",
       "      <td>6</td>\n",
       "      <td>13</td>\n",
       "      <td>0.894</td>\n",
       "    </tr>\n",
       "    <tr>\n",
       "      <th>5</th>\n",
       "      <td>8</td>\n",
       "      <td>13</td>\n",
       "      <td>0.894</td>\n",
       "    </tr>\n",
       "    <tr>\n",
       "      <th>12</th>\n",
       "      <td>15</td>\n",
       "      <td>13</td>\n",
       "      <td>0.894</td>\n",
       "    </tr>\n",
       "    <tr>\n",
       "      <th>11</th>\n",
       "      <td>14</td>\n",
       "      <td>13</td>\n",
       "      <td>0.888</td>\n",
       "    </tr>\n",
       "    <tr>\n",
       "      <th>0</th>\n",
       "      <td>3</td>\n",
       "      <td>12</td>\n",
       "      <td>0.886</td>\n",
       "    </tr>\n",
       "    <tr>\n",
       "      <th>1</th>\n",
       "      <td>4</td>\n",
       "      <td>13</td>\n",
       "      <td>0.884</td>\n",
       "    </tr>\n",
       "  </tbody>\n",
       "</table>\n",
       "</div>"
      ],
      "text/plain": [
       "    n_neighbors  best_k  test_score\n",
       "7            10      13       0.904\n",
       "6             9      13       0.900\n",
       "8            11      13       0.900\n",
       "4             7      13       0.896\n",
       "9            12      13       0.896\n",
       "10           13      13       0.896\n",
       "2             5      12       0.894\n",
       "3             6      13       0.894\n",
       "5             8      13       0.894\n",
       "12           15      13       0.894\n",
       "11           14      13       0.888\n",
       "0             3      12       0.886\n",
       "1             4      13       0.884"
      ]
     },
     "execution_count": 16,
     "metadata": {},
     "output_type": "execute_result"
    }
   ],
   "source": [
    "results.sort_values(by=\"test_score\", ascending=False)"
   ]
  },
  {
   "cell_type": "code",
   "execution_count": 17,
   "metadata": {
    "collapsed": false
   },
   "outputs": [
    {
     "data": {
      "text/plain": [
       "Index([u'feat_048', u'feat_064', u'feat_105', u'feat_128', u'feat_241',\n",
       "       u'feat_336', u'feat_338', u'feat_378', u'feat_442', u'feat_453',\n",
       "       u'feat_472', u'feat_475', u'feat_493'],\n",
       "      dtype='object')"
      ]
     },
     "execution_count": 17,
     "metadata": {},
     "output_type": "execute_result"
    }
   ],
   "source": [
    "best_output_knn = (pipeline(proj5_conn, StandardScaler(), transformer=SelectKBest(k=13),\n",
    "                    model=KNeighborsClassifier(n_neighbors=10, weights=\"distance\", n_jobs=-1), \n",
    "                    verbose=False, random_state=10))\n",
    "best_output_knn[\"features\"]"
   ]
  },
  {
   "cell_type": "code",
   "execution_count": null,
   "metadata": {
    "collapsed": true
   },
   "outputs": [],
   "source": []
  }
 ],
 "metadata": {
  "anaconda-cloud": {},
  "kernelspec": {
   "display_name": "Python [default]",
   "language": "python",
   "name": "python2"
  },
  "language_info": {
   "codemirror_mode": {
    "name": "ipython",
    "version": 2
   },
   "file_extension": ".py",
   "mimetype": "text/x-python",
   "name": "python",
   "nbconvert_exporter": "python",
   "pygments_lexer": "ipython2",
   "version": "2.7.12"
  }
 },
 "nbformat": 4,
 "nbformat_minor": 1
}
